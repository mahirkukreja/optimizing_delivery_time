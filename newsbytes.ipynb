{
 "cells": [
  {
   "cell_type": "code",
   "execution_count": 426,
   "metadata": {
    "collapsed": true
   },
   "outputs": [],
   "source": [
    "import pandas as pd\n",
    "# Importing important libraries\n",
    "import numpy as np\n",
    "import pandas as pd\n",
    "import re\n",
    "from datetime import datetime,date,time\n",
    "from scipy.stats import skew\n",
    "from scipy.stats.stats import pearsonr\n",
    "from sklearn.model_selection import train_test_split\n",
    "import matplotlib.pyplot as plt\n",
    "import matplotlib\n",
    "%matplotlib inline\n",
    "import seaborn as sns\n",
    "matplotlib.rcParams['figure.figsize'] = (18.0, 6.0)"
   ]
  },
  {
   "cell_type": "code",
   "execution_count": 427,
   "metadata": {
    "collapsed": false
   },
   "outputs": [],
   "source": [
    "df=pd.read_csv('data_problem_1.csv')"
   ]
  },
  {
   "cell_type": "code",
   "execution_count": 428,
   "metadata": {
    "collapsed": false
   },
   "outputs": [],
   "source": [
    "df['order_pickedup_time']=pd.to_datetime(df['order_pickedup_time'])\n",
    "df['order_delivered_time']=pd.to_datetime(df['order_delivered_time'])"
   ]
  },
  {
   "cell_type": "code",
   "execution_count": 429,
   "metadata": {
    "collapsed": false
   },
   "outputs": [],
   "source": [
    "df['eta']=(df['order_delivered_time']-df['order_pickedup_time'])"
   ]
  },
  {
   "cell_type": "code",
   "execution_count": 430,
   "metadata": {
    "collapsed": false
   },
   "outputs": [],
   "source": [
    "fintime=[]\n",
    "for i in range(df.shape[0]):\n",
    "    fintime.append(df['eta'][i].total_seconds()/60)"
   ]
  },
  {
   "cell_type": "code",
   "execution_count": 431,
   "metadata": {
    "collapsed": false
   },
   "outputs": [],
   "source": [
    "df['complete_eta']=fintime"
   ]
  },
  {
   "cell_type": "code",
   "execution_count": 432,
   "metadata": {
    "collapsed": false
   },
   "outputs": [],
   "source": [
    "EARTH_RADIUS = 6371\n",
    "\n",
    "\n",
    "def haversine(start_lon, start_lat, end_lon, end_lat):\n",
    "    start_lon = np.radians(start_lon)\n",
    "    start_lat = np.radians(start_lat)\n",
    "    end_lon = np.radians(end_lon)\n",
    "    end_lat = np.radians(end_lat)\n",
    "\n",
    "    dlon = end_lon - start_lon\n",
    "    dlat = end_lat - start_lat\n",
    "\n",
    "    a = (np.sin(dlat / 2)**2 + np.cos(start_lat) * np.cos(end_lat) *\n",
    "         np.sin(dlon / 2)**2)\n",
    "    c = 2 * np.arctan2(np.sqrt(a), np.sqrt(1 - a))\n",
    "\n",
    "    return np.nan_to_num(c * EARTH_RADIUS)"
   ]
  },
  {
   "cell_type": "code",
   "execution_count": 433,
   "metadata": {
    "collapsed": false
   },
   "outputs": [],
   "source": [
    "import numpy as np\n",
    "ls=[]\n",
    "for i in range(df.shape[0]):\n",
    "    y=haversine(df['R_Lon'][i],df['R_Lat'][i],df['C_Lon'][i],df['C_Lat'][i])\n",
    "    ls.append(y)\n",
    "df['dist']=ls "
   ]
  },
  {
   "cell_type": "code",
   "execution_count": 434,
   "metadata": {
    "collapsed": false
   },
   "outputs": [],
   "source": [
    "df['day']=df['order_pickedup_time'].dt.day\n",
    "df['month']=df['order_pickedup_time'].dt.month\n",
    "df['hour']=df['order_pickedup_time'].dt.hour\n",
    "df['minute']=df['order_pickedup_time'].dt.minute\n",
    "df['week']=df['order_pickedup_time'].dt.week"
   ]
  },
  {
   "cell_type": "code",
   "execution_count": 435,
   "metadata": {
    "collapsed": false
   },
   "outputs": [],
   "source": [
    "from geopy.distance import vincenty\n",
    "dis=[]\n",
    "for i in range(df.shape[0]):\n",
    "    newport_ri = (df['R_Lon'][i],df['R_Lat'][i])\n",
    "    cleveland_oh = (df['C_Lon'][i], df['C_Lat'][i])\n",
    "    dis.append((vincenty(newport_ri, cleveland_oh).km))"
   ]
  },
  {
   "cell_type": "code",
   "execution_count": 436,
   "metadata": {
    "collapsed": false
   },
   "outputs": [],
   "source": [
    "df['dis']=dis"
   ]
  },
  {
   "cell_type": "code",
   "execution_count": 437,
   "metadata": {
    "collapsed": false
   },
   "outputs": [
    {
     "data": {
      "image/png": "[encoded data removed]",
      "text/plain": [
       "<matplotlib.figure.Figure at 0x7f1b74675c50>"
      ]
     },
     "metadata": {},
     "output_type": "display_data"
    }
   ],
   "source": [
    "fig, ax = plt.subplots(figsize=(5,2))\n",
    "sns.boxplot(x = 'complete_eta', data = df, orient = 'h', width = 0.8, \n",
    "                 fliersize = 3, ax = ax)\n",
    "plt.show()"
   ]
  },
  {
   "cell_type": "code",
   "execution_count": 438,
   "metadata": {
    "collapsed": false
   },
   "outputs": [
    {
     "data": {
      "image/png": "[encoded data removed]",
      "text/plain": [
       "<matplotlib.figure.Figure at 0x7f1b9dfc4350>"
      ]
     },
     "metadata": {},
     "output_type": "display_data"
    }
   ],
   "source": [
    "fig, ax = plt.subplots(figsize=(15,2))\n",
    "sns.boxplot(x = 'dis', data = df, orient = 'h', width = 0.8, \n",
    "                 fliersize = 3, ax = ax)\n",
    "plt.show()"
   ]
  },
  {
   "cell_type": "code",
   "execution_count": 439,
   "metadata": {
    "collapsed": false
   },
   "outputs": [
    {
     "data": {
      "image/png": "[encoded data removed]",
      "text/plain": [
       "<matplotlib.figure.Figure at 0x7f1b756e7110>"
      ]
     },
     "metadata": {},
     "output_type": "display_data"
    }
   ],
   "source": [
    "fig, ax = plt.subplots(figsize=(15,2))\n",
    "sns.boxplot(x = 'dist', data = df, orient = 'h', width = 0.8, \n",
    "                 fliersize = 3, ax = ax)\n",
    "plt.show()"
   ]
  },
  {
   "cell_type": "code",
   "execution_count": 440,
   "metadata": {
    "collapsed": false
   },
   "outputs": [
    {
     "data": {
      "text/html": [
       "<div>\n",
       "<table border=\"1\" class=\"dataframe\">\n",
       "  <thead>\n",
       "    <tr style=\"text-align: right;\">\n",
       "      <th></th>\n",
       "      <th>R_Lon</th>\n",
       "      <th>R_Lat</th>\n",
       "      <th>C_Lon</th>\n",
       "      <th>C_Lat</th>\n",
       "      <th>eta</th>\n",
       "      <th>complete_eta</th>\n",
       "      <th>dist</th>\n",
       "      <th>day</th>\n",
       "      <th>month</th>\n",
       "      <th>hour</th>\n",
       "      <th>minute</th>\n",
       "      <th>week</th>\n",
       "      <th>dis</th>\n",
       "    </tr>\n",
       "  </thead>\n",
       "  <tbody>\n",
       "    <tr>\n",
       "      <th>count</th>\n",
       "      <td>237373.000000</td>\n",
       "      <td>237373.000000</td>\n",
       "      <td>237373.000000</td>\n",
       "      <td>237373.000000</td>\n",
       "      <td>237373</td>\n",
       "      <td>237373.000000</td>\n",
       "      <td>237373.000000</td>\n",
       "      <td>237373.000000</td>\n",
       "      <td>237373.000000</td>\n",
       "      <td>237373.000000</td>\n",
       "      <td>237373.000000</td>\n",
       "      <td>237373.000000</td>\n",
       "      <td>237373.000000</td>\n",
       "    </tr>\n",
       "    <tr>\n",
       "      <th>mean</th>\n",
       "      <td>78.976819</td>\n",
       "      <td>20.595245</td>\n",
       "      <td>78.975780</td>\n",
       "      <td>20.594219</td>\n",
       "      <td>0 days 00:18:47.333037</td>\n",
       "      <td>18.788884</td>\n",
       "      <td>1.894879</td>\n",
       "      <td>16.099936</td>\n",
       "      <td>6.938805</td>\n",
       "      <td>11.979922</td>\n",
       "      <td>29.259174</td>\n",
       "      <td>28.040042</td>\n",
       "      <td>2.098440</td>\n",
       "    </tr>\n",
       "    <tr>\n",
       "      <th>std</th>\n",
       "      <td>3.421235</td>\n",
       "      <td>6.204799</td>\n",
       "      <td>3.432772</td>\n",
       "      <td>6.205044</td>\n",
       "      <td>0 days 00:33:38.787549</td>\n",
       "      <td>33.646459</td>\n",
       "      <td>34.995188</td>\n",
       "      <td>8.849625</td>\n",
       "      <td>1.399386</td>\n",
       "      <td>3.528053</td>\n",
       "      <td>17.350184</td>\n",
       "      <td>6.028997</td>\n",
       "      <td>126.266960</td>\n",
       "    </tr>\n",
       "    <tr>\n",
       "      <th>min</th>\n",
       "      <td>12.934216</td>\n",
       "      <td>12.875971</td>\n",
       "      <td>2.295038</td>\n",
       "      <td>9.394837</td>\n",
       "      <td>0 days 00:00:00</td>\n",
       "      <td>0.000000</td>\n",
       "      <td>0.000000</td>\n",
       "      <td>1.000000</td>\n",
       "      <td>4.000000</td>\n",
       "      <td>0.000000</td>\n",
       "      <td>0.000000</td>\n",
       "      <td>16.000000</td>\n",
       "      <td>0.000000</td>\n",
       "    </tr>\n",
       "    <tr>\n",
       "      <th>25%</th>\n",
       "      <td>77.199208</td>\n",
       "      <td>17.400000</td>\n",
       "      <td>77.202206</td>\n",
       "      <td>17.397975</td>\n",
       "      <td>0 days 00:10:30</td>\n",
       "      <td>10.500000</td>\n",
       "      <td>0.664448</td>\n",
       "      <td>8.000000</td>\n",
       "      <td>6.000000</td>\n",
       "      <td>8.000000</td>\n",
       "      <td>14.000000</td>\n",
       "      <td>23.000000</td>\n",
       "      <td>0.350369</td>\n",
       "    </tr>\n",
       "    <tr>\n",
       "      <th>50%</th>\n",
       "      <td>78.358395</td>\n",
       "      <td>17.468478</td>\n",
       "      <td>78.354377</td>\n",
       "      <td>17.468799</td>\n",
       "      <td>0 days 00:16:38</td>\n",
       "      <td>16.633333</td>\n",
       "      <td>1.374802</td>\n",
       "      <td>17.000000</td>\n",
       "      <td>7.000000</td>\n",
       "      <td>13.000000</td>\n",
       "      <td>29.000000</td>\n",
       "      <td>28.000000</td>\n",
       "      <td>0.807824</td>\n",
       "    </tr>\n",
       "    <tr>\n",
       "      <th>75%</th>\n",
       "      <td>78.462361</td>\n",
       "      <td>28.468983</td>\n",
       "      <td>78.462728</td>\n",
       "      <td>28.465918</td>\n",
       "      <td>0 days 00:23:57</td>\n",
       "      <td>23.950000</td>\n",
       "      <td>2.179799</td>\n",
       "      <td>24.000000</td>\n",
       "      <td>8.000000</td>\n",
       "      <td>15.000000</td>\n",
       "      <td>44.000000</td>\n",
       "      <td>33.000000</td>\n",
       "      <td>1.514261</td>\n",
       "    </tr>\n",
       "    <tr>\n",
       "      <th>max</th>\n",
       "      <td>88.433560</td>\n",
       "      <td>28.671119</td>\n",
       "      <td>91.765675</td>\n",
       "      <td>48.858871</td>\n",
       "      <td>6 days 14:09:53</td>\n",
       "      <td>9489.883333</td>\n",
       "      <td>7329.480554</td>\n",
       "      <td>31.000000</td>\n",
       "      <td>9.000000</td>\n",
       "      <td>23.000000</td>\n",
       "      <td>59.000000</td>\n",
       "      <td>38.000000</td>\n",
       "      <td>19679.540748</td>\n",
       "    </tr>\n",
       "  </tbody>\n",
       "</table>\n",
       "</div>"
      ],
      "text/plain": [
       "               R_Lon          R_Lat          C_Lon          C_Lat  \\\n",
       "count  237373.000000  237373.000000  237373.000000  237373.000000   \n",
       "mean       78.976819      20.595245      78.975780      20.594219   \n",
       "std         3.421235       6.204799       3.432772       6.205044   \n",
       "min        12.934216      12.875971       2.295038       9.394837   \n",
       "25%        77.199208      17.400000      77.202206      17.397975   \n",
       "50%        78.358395      17.468478      78.354377      17.468799   \n",
       "75%        78.462361      28.468983      78.462728      28.465918   \n",
       "max        88.433560      28.671119      91.765675      48.858871   \n",
       "\n",
       "                          eta   complete_eta           dist            day  \\\n",
       "count                  237373  237373.000000  237373.000000  237373.000000   \n",
       "mean   0 days 00:18:47.333037      18.788884       1.894879      16.099936   \n",
       "std    0 days 00:33:38.787549      33.646459      34.995188       8.849625   \n",
       "min           0 days 00:00:00       0.000000       0.000000       1.000000   \n",
       "25%           0 days 00:10:30      10.500000       0.664448       8.000000   \n",
       "50%           0 days 00:16:38      16.633333       1.374802      17.000000   \n",
       "75%           0 days 00:23:57      23.950000       2.179799      24.000000   \n",
       "max           6 days 14:09:53    9489.883333    7329.480554      31.000000   \n",
       "\n",
       "               month           hour         minute           week  \\\n",
       "count  237373.000000  237373.000000  237373.000000  237373.000000   \n",
       "mean        6.938805      11.979922      29.259174      28.040042   \n",
       "std         1.399386       3.528053      17.350184       6.028997   \n",
       "min         4.000000       0.000000       0.000000      16.000000   \n",
       "25%         6.000000       8.000000      14.000000      23.000000   \n",
       "50%         7.000000      13.000000      29.000000      28.000000   \n",
       "75%         8.000000      15.000000      44.000000      33.000000   \n",
       "max         9.000000      23.000000      59.000000      38.000000   \n",
       "\n",
       "                 dis  \n",
       "count  237373.000000  \n",
       "mean        2.098440  \n",
       "std       126.266960  \n",
       "min         0.000000  \n",
       "25%         0.350369  \n",
       "50%         0.807824  \n",
       "75%         1.514261  \n",
       "max     19679.540748  "
      ]
     },
     "execution_count": 440,
     "metadata": {},
     "output_type": "execute_result"
    }
   ],
   "source": [
    "df.describe()"
   ]
  },
  {
   "cell_type": "code",
   "execution_count": 441,
   "metadata": {
    "collapsed": true
   },
   "outputs": [],
   "source": [
    "df=df[df.complete_eta<80]\n",
    "df=df[df.dis<=10]\n",
    "df=df[df.dist<=10]"
   ]
  },
  {
   "cell_type": "code",
   "execution_count": 442,
   "metadata": {
    "collapsed": true
   },
   "outputs": [],
   "source": [
    "df=df.reset_index()"
   ]
  },
  {
   "cell_type": "code",
   "execution_count": 443,
   "metadata": {
    "collapsed": false
   },
   "outputs": [],
   "source": [
    "from sklearn import preprocessing\n",
    "xy_scaler=preprocessing.StandardScaler() \n",
    "xy_scaler.fit(df[[\"R_Lon\",\"R_Lat\"]]) \n",
    "df[[\"R_Lon\",\"R_Lat\"]]=xy_scaler.transform(df[[\"R_Lon\",\"R_Lat\"]])\n",
    "df[[\"C_Lon\",\"C_Lat\"]]=xy_scaler.transform(df[[\"C_Lon\",\"C_Lat\"]])"
   ]
  },
  {
   "cell_type": "code",
   "execution_count": 450,
   "metadata": {
    "collapsed": false
   },
   "outputs": [],
   "source": [
    "df[\"rot45_pickup_latitude\"] = .707* df[\"R_Lon\"] + .707* df[\"R_Lat\"] \n",
    "df[\"rot45_pickup_longitude\"] = .707* df[\"R_Lon\"] - .707* df[\"R_Lat\"]\n",
    "df[\"rot45_dropoff_latitude\"] = .707* df[\"C_Lon\"] + .707* df[\"C_Lat\"] \n",
    "df[\"rot45_dropoff_longitude\"] = .707* df[\"C_Lon\"] - .707* df[\"C_Lat\"]\n",
    "df[\"rot30_X\"] = (1.732/2)* df[\"R_Lat\"] + (1./2)* df[\"R_Lon\"] \n",
    "df[\"rot30_Y\"] = (1.732/2)* df[\"R_Lon\"] - (1./2)* df[\"R_Lat\"]\n",
    "df[\"rot30_a\"] = (1.732/2)* df[\"C_Lat\"] + (1./2)* df[\"C_Lon\"] \n",
    "df[\"rot30_b\"] = (1.732/2)* df[\"C_Lon\"] - (1./2)* df[\"C_Lat\"]\n",
    "df[\"rot60_X\"] = (1./2)* df[\"C_Lat\"] + (1.732/2)* df[\"C_Lon\"] \n",
    "df[\"rot60_Y\"] = (1./2)* df[\"C_Lon\"] - (1.732/2)* df[\"C_Lat\"]\n",
    "df[\"rot60_a\"] = (1./2)* df[\"R_Lat\"] + (1.732/2)* df[\"R_Lon\"] \n",
    "df[\"rot60_b\"] = (1./2)* df[\"R_Lon\"] - (1.732/2)* df[\"R_Lat\"]\n",
    "df[\"radial_r\"] = np.sqrt( np.power(df[\"R_Lon\"],2) + np.power(df[\"R_Lat\"],2) )\n",
    "df[\"radial_r1\"] = np.sqrt( np.power(df[\"C_Lon\"],2) + np.power(df[\"C_Lat\"],2) )"
   ]
  },
  {
   "cell_type": "code",
   "execution_count": 445,
   "metadata": {
    "collapsed": false
   },
   "outputs": [
    {
     "data": {
      "text/plain": [
       "<matplotlib.axes.AxesSubplot at 0x7f1bbf642650>"
      ]
     },
     "execution_count": 445,
     "metadata": {},
     "output_type": "execute_result"
    },
    {
     "data": {
      "image/png": "[encoded data removed]",
      "text/plain": [
       "<matplotlib.figure.Figure at 0x7f1b7db95510>"
      ]
     },
     "metadata": {},
     "output_type": "display_data"
    }
   ],
   "source": [
    "corr = df.select_dtypes(include = ['float64', 'int64']).iloc[:, 0:].corr()\n",
    "plt.figure(figsize=(13, 13))\n",
    "sns.heatmap(corr, vmax=1, square=True)"
   ]
  },
  {
   "cell_type": "code",
   "execution_count": 446,
   "metadata": {
    "collapsed": false
   },
   "outputs": [
    {
     "name": "stdout",
     "output_type": "stream",
     "text": [
      "List the numerical features decendingly by their correlation with ndTemp:\n",
      "\n",
      "dist: \t0.153642485594\n",
      "dis: \t0.132988509943\n",
      "R_Lon: \t-0.0772706116336\n",
      "C_Lon: \t-0.0772515366747\n",
      "R_Lat: \t0.0325289923047\n",
      "C_Lat: \t0.0325035355822\n",
      "hour: \t0.0110697859034\n",
      "week: \t0.00862734767154\n",
      "month: \t0.00790324123637\n",
      "index: \t0.00207352780077\n",
      "minute: \t0.00189777505416\n",
      "day: \t-0.000854623662402\n"
     ]
    }
   ],
   "source": [
    "cor_dict = corr['complete_eta'].to_dict()\n",
    "del cor_dict['complete_eta']\n",
    "print(\"List the numerical features decendingly by their correlation with ndTemp:\\n\")\n",
    "for ele in sorted(cor_dict.items(), key = lambda x: -abs(x[1])):\n",
    "    print(\"{0}: \\t{1}\".format(*ele))\n"
   ]
  },
  {
   "cell_type": "code",
   "execution_count": 447,
   "metadata": {
    "collapsed": false
   },
   "outputs": [],
   "source": [
    "del df['order_id']\n",
    "del df['order_delivered_time']\n",
    "del df['order_pickedup_time']\n",
    "del df['eta']\n",
    "del df['index']"
   ]
  },
  {
   "cell_type": "code",
   "execution_count": 448,
   "metadata": {
    "collapsed": false
   },
   "outputs": [],
   "source": [
    "y=df['complete_eta']\n",
    "del df['complete_eta']\n",
    "y_train=y[0:200000]\n",
    "y_test=y[200000:]\n",
    "X_train=df[0:200000]\n",
    "X_test=df[200000:]"
   ]
  },
  {
   "cell_type": "code",
   "execution_count": 461,
   "metadata": {
    "collapsed": false
   },
   "outputs": [
    {
     "name": "stdout",
     "output_type": "stream",
     "text": [
      "Iteration 1, loss = 81.08641968\n",
      "Validation score: 0.013022\n",
      "Iteration 2, loss = 69.10906608\n",
      "Validation score: 0.022721\n",
      "Iteration 3, loss = 68.34651947\n",
      "Validation score: 0.031212\n",
      "Iteration 4, loss = 68.15222430\n",
      "Validation score: 0.020249\n",
      "Iteration 5, loss = 67.98831673\n",
      "Validation score: 0.029222\n",
      "Iteration 6, loss = 67.88005205\n",
      "Validation score: 0.019198\n",
      "Validation score did not improve more than tol=0.000100 for two consecutive epochs. Stopping.\n"
     ]
    },
    {
     "data": {
      "text/plain": [
       "MLPRegressor(activation='relu', alpha=0.0001, batch_size='auto', beta_1=0.9,\n",
       "       beta_2=0.999, early_stopping=True, epsilon=1e-08,\n",
       "       hidden_layer_sizes=(100,), learning_rate='constant',\n",
       "       learning_rate_init=0.001, max_iter=200, momentum=0.9,\n",
       "       nesterovs_momentum=True, power_t=0.5, random_state=None,\n",
       "       shuffle=True, solver='sgd', tol=0.0001, validation_fraction=0.1,\n",
       "       verbose=10, warm_start=False)"
      ]
     },
     "execution_count": 461,
     "metadata": {},
     "output_type": "execute_result"
    }
   ],
   "source": [
    "from sklearn.neural_network import MLPRegressor\n",
    "model=MLPRegressor(verbose=10,solver='sgd',early_stopping=True)\n",
    "model.fit(X_train,y_train)"
   ]
  },
  {
   "cell_type": "code",
   "execution_count": 374,
   "metadata": {
    "collapsed": false
   },
   "outputs": [
    {
     "data": {
      "text/plain": [
       "8.78994473526609"
      ]
     },
     "execution_count": 374,
     "metadata": {},
     "output_type": "execute_result"
    }
   ],
   "source": [
    "from sklearn.metrics import mean_absolute_error\n",
    "mean_absolute_error(model.predict(X_test),y_test)"
   ]
  },
  {
   "cell_type": "code",
   "execution_count": 359,
   "metadata": {
    "collapsed": false
   },
   "outputs": [
    {
     "data": {
      "text/plain": [
       "array([ 18.16793546,  18.59090025,  17.9340339 , ...,  21.02888246,\n",
       "        19.3733771 ,  19.06864814])"
      ]
     },
     "execution_count": 359,
     "metadata": {},
     "output_type": "execute_result"
    }
   ],
   "source": [
    "model.predict(X_test)"
   ]
  },
  {
   "cell_type": "code",
   "execution_count": 360,
   "metadata": {
    "collapsed": false
   },
   "outputs": [
    {
     "data": {
      "text/plain": [
       "XGBRegressor(base_score=0.5, colsample_bylevel=1, colsample_bytree=1, gamma=0,\n",
       "       learning_rate=0.1, max_delta_step=0, max_depth=3,\n",
       "       min_child_weight=1, missing=None, n_estimators=500, nthread=-1,\n",
       "       objective='reg:linear', reg_alpha=0, reg_lambda=1,\n",
       "       scale_pos_weight=1, seed=0, silent=True, subsample=1)"
      ]
     },
     "execution_count": 360,
     "metadata": {},
     "output_type": "execute_result"
    }
   ],
   "source": [
    "import xgboost as xgb\n",
    "model=xgb.XGBRegressor(n_estimators=500)\n",
    "model.fit(X_train,y_train)"
   ]
  },
  {
   "cell_type": "code",
   "execution_count": 459,
   "metadata": {
    "collapsed": false
   },
   "outputs": [],
   "source": [
    "import xgboost as xgb\n",
    "param = {}\n",
    "param['objective'] = 'reg:linear'\n",
    "param['eval_metric'] = 'mae'\n",
    "dtrain = xgb.DMatrix(X_train, label=y_train)\n",
    "dtest=xgb.DMatrix(X_test,label=y_test)\n",
    "bst = xgb.train( param, dtrain,190)"
   ]
  },
  {
   "cell_type": "code",
   "execution_count": 468,
   "metadata": {
    "collapsed": false
   },
   "outputs": [
    {
     "data": {
      "text/plain": [
       "8.018992787255339"
      ]
     },
     "execution_count": 468,
     "metadata": {},
     "output_type": "execute_result"
    }
   ],
   "source": [
    "mean_absolute_error(bst.predict(dtest),y_test)"
   ]
  }
 ],
 "metadata": {
  "kernelspec": {
   "display_name": "Python 2",
   "language": "python",
   "name": "python2"
  },
  "language_info": {
   "codemirror_mode": {
    "name": "ipython",
    "version": 2
   },
   "file_extension": ".py",
   "mimetype": "text/x-python",
   "name": "python",
   "nbconvert_exporter": "python",
   "pygments_lexer": "ipython2",
   "version": "2.7.12"
  }
 },
 "nbformat": 4,
 "nbformat_minor": 2
}
